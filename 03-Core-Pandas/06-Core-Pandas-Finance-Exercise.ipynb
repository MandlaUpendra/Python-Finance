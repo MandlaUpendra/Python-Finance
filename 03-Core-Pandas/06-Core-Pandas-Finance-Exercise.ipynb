{
 "cells": [
  {
   "cell_type": "markdown",
   "id": "44afe95e",
   "metadata": {},
   "source": [
    "___\n",
    "\n",
    "<a href='http://www.pieriandata.com'><img src='../Pierian_Data_Logo.png'/></a>\n",
    "___\n",
    "<center><em>Copyright by Pierian Data Inc.</em></center>\n",
    "<center><em>For more information, visit us at <a href='http://www.pieriandata.com'>www.pieriandata.com</a></em></center>"
   ]
  },
  {
   "cell_type": "markdown",
   "id": "fa54c735",
   "metadata": {},
   "source": [
    "# Pandas Project Exercise - \n",
    "\n",
    "# The Data\n",
    "\n",
    "The dataset contains a list of all stocks included in the SP500 and associated key financials. <br />\n",
    "\n",
    "Note that there are multiple viable solutions for most of the tasks!\n",
    "\n",
    "\n",
    "Acknowledgements\n",
    "----------------------------\n",
    "The dataset was originally provided on https://datahub.io/core/s-and-p-500-companies-financials and is licensed under Open Data Commons Public Domain Dedication and License. (https://opendatacommons.org/licenses/pddl/1-0/)"
   ]
  },
  {
   "cell_type": "markdown",
   "id": "f781dd21",
   "metadata": {},
   "source": [
    "**Task: Import the necessary libraries**"
   ]
  },
  {
   "cell_type": "code",
   "execution_count": null,
   "id": "17ad9257",
   "metadata": {},
   "outputs": [],
   "source": [
    "# CODE HERE"
   ]
  },
  {
   "cell_type": "markdown",
   "id": "d5d2c352",
   "metadata": {},
   "source": [
    "**Task: Read the two datasets provided in the current directory (also available in the DATA folder. (The file names are: constituents.csv and constituents-financials.csv)**"
   ]
  },
  {
   "cell_type": "code",
   "execution_count": null,
   "id": "c1d3e446",
   "metadata": {},
   "outputs": [],
   "source": [
    "# CODE HERE"
   ]
  },
  {
   "cell_type": "markdown",
   "id": "2feb1b71",
   "metadata": {},
   "source": [
    "**Task: List all columns of the two datasets. Additionally retrieve the datatype for each column**"
   ]
  },
  {
   "cell_type": "code",
   "execution_count": null,
   "id": "67c8b37b",
   "metadata": {},
   "outputs": [],
   "source": [
    "# CODE HERE"
   ]
  },
  {
   "cell_type": "markdown",
   "id": "7b01940b",
   "metadata": {},
   "source": [
    "**Task: Print the first 5 rows of both datasets**"
   ]
  },
  {
   "cell_type": "code",
   "execution_count": null,
   "id": "9877900f",
   "metadata": {},
   "outputs": [],
   "source": [
    "# CODE HERE"
   ]
  },
  {
   "cell_type": "markdown",
   "id": "cdf28a57",
   "metadata": {},
   "source": [
    "**Task: Drop the SEC Filings column**"
   ]
  },
  {
   "cell_type": "code",
   "execution_count": null,
   "id": "b618f08d",
   "metadata": {},
   "outputs": [],
   "source": [
    "# CODE HERE"
   ]
  },
  {
   "cell_type": "markdown",
   "id": "801865de",
   "metadata": {},
   "source": [
    "**Task: Set the Symbol column to the index in the financials dataset**"
   ]
  },
  {
   "cell_type": "code",
   "execution_count": null,
   "id": "31e8805f",
   "metadata": {},
   "outputs": [],
   "source": [
    "# CODE HERE"
   ]
  },
  {
   "cell_type": "markdown",
   "id": "7f6ef5ec",
   "metadata": {},
   "source": [
    "**Task: What are the 10 largest companies according to market cap?**"
   ]
  },
  {
   "cell_type": "code",
   "execution_count": null,
   "id": "10cc8cd7",
   "metadata": {},
   "outputs": [],
   "source": [
    "# CODE HERE"
   ]
  },
  {
   "cell_type": "markdown",
   "id": "67f138fc",
   "metadata": {},
   "source": [
    "**Task: Return all information about the 10 largest companies according by market cap**"
   ]
  },
  {
   "cell_type": "code",
   "execution_count": null,
   "id": "92424398",
   "metadata": {},
   "outputs": [],
   "source": [
    "# CODE HERE"
   ]
  },
  {
   "cell_type": "markdown",
   "id": "acfa8c4c",
   "metadata": {},
   "source": [
    "Note: The difference between GOOG and GOOGL is, that GOOG shares have no voting rights"
   ]
  },
  {
   "cell_type": "markdown",
   "id": "0f5fd9a7",
   "metadata": {},
   "source": [
    "**Task: Drop GOOG**"
   ]
  },
  {
   "cell_type": "code",
   "execution_count": null,
   "id": "63a1aad3",
   "metadata": {},
   "outputs": [],
   "source": [
    "# CODE HERE"
   ]
  },
  {
   "cell_type": "markdown",
   "id": "126ce2c9",
   "metadata": {},
   "source": [
    "**Task: How many companies have a dividend yield > 4% ?**"
   ]
  },
  {
   "cell_type": "code",
   "execution_count": null,
   "id": "c72b7d1f",
   "metadata": {},
   "outputs": [],
   "source": [
    "# CODE HERE"
   ]
  },
  {
   "cell_type": "markdown",
   "id": "9323262c",
   "metadata": {},
   "source": [
    "**Task: What is the mean Earnings per Share for all companies with a market cap > 1e+11**"
   ]
  },
  {
   "cell_type": "code",
   "execution_count": null,
   "id": "bb489c71",
   "metadata": {},
   "outputs": [],
   "source": [
    "# CODE HERE"
   ]
  },
  {
   "cell_type": "markdown",
   "id": "2acb6deb",
   "metadata": {},
   "source": [
    "**Task: How many companies have a positive earnings per shares ratio?**"
   ]
  },
  {
   "cell_type": "code",
   "execution_count": null,
   "id": "ad8e80df",
   "metadata": {},
   "outputs": [],
   "source": [
    "# CODE HERE"
   ]
  },
  {
   "cell_type": "markdown",
   "id": "64663714",
   "metadata": {},
   "source": [
    "**Task: Which company pays the highest dividend yield? What was its 52 week high?**"
   ]
  },
  {
   "cell_type": "code",
   "execution_count": null,
   "id": "92f1cc92",
   "metadata": {},
   "outputs": [],
   "source": [
    "# CODE HERE"
   ]
  },
  {
   "cell_type": "markdown",
   "id": "e79e00b6",
   "metadata": {},
   "source": [
    "**Task: Return the company with the largest spread between 52 weeks high and low**"
   ]
  },
  {
   "cell_type": "code",
   "execution_count": null,
   "id": "9c860d49",
   "metadata": {},
   "outputs": [],
   "source": [
    "# CODE HERE"
   ]
  },
  {
   "cell_type": "markdown",
   "id": "d7257af4",
   "metadata": {},
   "source": [
    "**Task: Return all companies whith a price between \\\\$ 50 and \\\\$ 100**"
   ]
  },
  {
   "cell_type": "code",
   "execution_count": null,
   "id": "7489f51d",
   "metadata": {},
   "outputs": [],
   "source": [
    "# CODE HERE"
   ]
  },
  {
   "cell_type": "markdown",
   "id": "0c32664e",
   "metadata": {},
   "source": [
    "**Task: The market cap is really hard to read. Create a new column called \"Market Cap in Billion\" which shows the market cap in billions**"
   ]
  },
  {
   "cell_type": "code",
   "execution_count": null,
   "id": "d0c38565",
   "metadata": {},
   "outputs": [],
   "source": [
    "# CODE HERE"
   ]
  },
  {
   "cell_type": "markdown",
   "id": "2db84651",
   "metadata": {},
   "source": [
    "**Task: Is there a correlation between the market cap and the Dividend Yield?**"
   ]
  },
  {
   "cell_type": "code",
   "execution_count": null,
   "id": "0103e70e",
   "metadata": {},
   "outputs": [],
   "source": [
    "# CODE HERE"
   ]
  },
  {
   "cell_type": "markdown",
   "id": "f4882996",
   "metadata": {},
   "source": [
    "**Task: Merge the financials dataframe with the constituents dataframe**"
   ]
  },
  {
   "cell_type": "code",
   "execution_count": null,
   "id": "8b30584f",
   "metadata": {},
   "outputs": [],
   "source": [
    "# CODE HERE"
   ]
  },
  {
   "cell_type": "markdown",
   "id": "5bf48eb3",
   "metadata": {},
   "source": [
    "**Task: Print all sectors. How often does each sector occur?**"
   ]
  },
  {
   "cell_type": "code",
   "execution_count": null,
   "id": "8b816bdd",
   "metadata": {},
   "outputs": [],
   "source": [
    "# CODE HERE"
   ]
  },
  {
   "cell_type": "markdown",
   "id": "29598476",
   "metadata": {},
   "source": [
    "**Task: Replace Information Technology by \"IT\"**"
   ]
  },
  {
   "cell_type": "code",
   "execution_count": null,
   "id": "aa2c9564",
   "metadata": {},
   "outputs": [],
   "source": [
    "#CODE HERE"
   ]
  },
  {
   "cell_type": "markdown",
   "id": "b8382c5c",
   "metadata": {},
   "source": [
    "**Task: Add a \\$ before the stock price**"
   ]
  },
  {
   "cell_type": "code",
   "execution_count": null,
   "id": "6de6af05",
   "metadata": {},
   "outputs": [],
   "source": [
    "# CODE HERE"
   ]
  }
 ],
 "metadata": {
  "kernelspec": {
   "display_name": "Python 3 (ipykernel)",
   "language": "python",
   "name": "python3"
  },
  "language_info": {
   "codemirror_mode": {
    "name": "ipython",
    "version": 3
   },
   "file_extension": ".py",
   "mimetype": "text/x-python",
   "name": "python",
   "nbconvert_exporter": "python",
   "pygments_lexer": "ipython3",
   "version": "3.11.5"
  }
 },
 "nbformat": 4,
 "nbformat_minor": 5
}
